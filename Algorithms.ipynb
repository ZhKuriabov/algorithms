{
 "cells": [
  {
   "cell_type": "markdown",
   "metadata": {},
   "source": [
    "# Квадратичые сортировки \"n**2 операций\""
   ]
  },
  {
   "cell_type": "code",
   "execution_count": 38,
   "metadata": {},
   "outputs": [],
   "source": [
    "# Insert Sort (Сортировка вставками)\n",
    "def insert_sort(A):\n",
    "    \"\"\"Insert Sort. (Keep one part of the list sorted.)\"\"\"\n",
    "    N = len(A)\n",
    "    for top in range(1, N):\n",
    "        k = top\n",
    "        while k > 0 and A[k - 1] > A[k]:\n",
    "            A[k], A[k - 1] = A[k - 1], A[k]\n",
    "            k -= 1"
   ]
  },
  {
   "cell_type": "code",
   "execution_count": 39,
   "metadata": {},
   "outputs": [],
   "source": [
    "# Choice sort (Сортировка выбора)\n",
    "def choice_sort(A):\n",
    "    \"\"\"Choice sort. (Find the minimum element for each position.)\"\"\"\n",
    "    N = len(A)\n",
    "    for pos in range(0, N-1):\n",
    "        for k in range(pos + 1, N):\n",
    "            if A[k] < A[pos]:\n",
    "                A[k], A[pos] = A[pos], A[k]"
   ]
  },
  {
   "cell_type": "code",
   "execution_count": 41,
   "metadata": {},
   "outputs": [],
   "source": [
    "# Bubble sort (Сортировка методом пузырька)\n",
    "def bubble_sort(A):\n",
    "    \"\"\"Bubble sort. (Invariant is the biggest in the past. Arithmetic progression.)\"\"\"\n",
    "    N = len(A)\n",
    "    for bypass in range(1, N):\n",
    "        for k in range(0, N - bypass):\n",
    "            if A[k] > A[k + 1]:\n",
    "                A[k], A[k + 1] = A[k + 1], A[k]"
   ]
  },
  {
   "cell_type": "code",
   "execution_count": 42,
   "metadata": {},
   "outputs": [],
   "source": [
    "def test_sort(sort_algorithm):\n",
    "    print(\"Тестируем: \", sort_algorithm.__doc__)\n",
    "    print(\"testcase #1: \", end='')\n",
    "    A = [4, 2, 5, 1, 3]\n",
    "    A_sorted = [1, 2, 3, 4, 5]\n",
    "    sort_algorithm(A)\n",
    "    print(\"Ok\" if A == A_sorted else \"Fail\")\n",
    "    \n",
    "    print(\"testcase #2: \", end='')\n",
    "    A = list(range(20, 30)) + list(range(20))\n",
    "    A_sorted = list(range(30))\n",
    "    sort_algorithm(A)\n",
    "    print(\"Ok\" if A == A_sorted else \"Fail\")\n",
    "    \n",
    "    print(\"testcase #3: \", end='')\n",
    "    A = [4, 2, 5, 3, 3]\n",
    "    A_sorted = [2, 3, 3, 4, 5]\n",
    "    sort_algorithm(A)\n",
    "    print(\"Ok\" if A == A_sorted else \"Fail\")"
   ]
  },
  {
   "cell_type": "code",
   "execution_count": 44,
   "metadata": {},
   "outputs": [
    {
     "name": "stdout",
     "output_type": "stream",
     "text": [
      "Тестируем:  Insert Sort. (Keep one part of the list sorted.)\n",
      "testcase #1: Ok\n",
      "testcase #2: Ok\n",
      "testcase #3: Ok\n",
      "Тестируем:  Choice sort. (Find the minimum element for each position.)\n",
      "testcase #1: Ok\n",
      "testcase #2: Ok\n",
      "testcase #3: Ok\n",
      "Тестируем:  Bubble sort. (Invariant is the biggest in the past. Arithmetic progression.)\n",
      "testcase #1: Ok\n",
      "testcase #2: Ok\n",
      "testcase #3: Ok\n"
     ]
    }
   ],
   "source": [
    "test_sort(insert_sort)\n",
    "test_sort(choice_sort)\n",
    "test_sort(bubble_sort)"
   ]
  },
  {
   "cell_type": "markdown",
   "metadata": {},
   "source": [
    "# Count Sort (Сортировка подсчетом) O(N) времени и O(М) памяти, где М - количество различных элементов. Известен диапазон значений.\n"
   ]
  },
  {
   "cell_type": "code",
   "execution_count": 108,
   "metadata": {},
   "outputs": [],
   "source": [
    "import numpy as np\n",
    "def count_sort(A):\n",
    "    \"\"\"Count sort.\"\"\"\n",
    "    F = [0]*10\n",
    "    B = []\n",
    "    for i in range(len(A)):\n",
    "        F[A[i]] += 1\n",
    "    for digit in range(10):\n",
    "        B += [digit]*F[digit]\n",
    "    return(B)\n"
   ]
  },
  {
   "cell_type": "code",
   "execution_count": 109,
   "metadata": {},
   "outputs": [
    {
     "data": {
      "text/plain": [
       "[1, 2, 2, 2, 3, 3, 5, 5, 7, 9]"
      ]
     },
     "execution_count": 109,
     "metadata": {},
     "output_type": "execute_result"
    }
   ],
   "source": [
    "A = [3, 3, 2, 2, 2, 1, 9, 5, 7, 5]\n",
    "count_sort(A) "
   ]
  },
  {
   "cell_type": "markdown",
   "metadata": {},
   "source": [
    "# Рекурсия"
   ]
  },
  {
   "cell_type": "code",
   "execution_count": 111,
   "metadata": {},
   "outputs": [
    {
     "name": "stdout",
     "output_type": "stream",
     "text": [
      "Top of the matryoshka 7\n",
      "Top of the matryoshka 6\n",
      "Top of the matryoshka 5\n",
      "Top of the matryoshka 4\n",
      "Top of the matryoshka 3\n",
      "Top of the matryoshka 2\n",
      "matryoshka\n",
      "Bottom of the matryoshka 2\n",
      "Bottom of the matryoshka 3\n",
      "Bottom of the matryoshka 4\n",
      "Bottom of the matryoshka 5\n",
      "Bottom of the matryoshka 6\n",
      "Bottom of the matryoshka 7\n"
     ]
    }
   ],
   "source": [
    "#Должен быть реккурентный случай и крайний случай.\n",
    "def matryoshka(n):\n",
    "    if n == 1:\n",
    "        print('matryoshka')\n",
    "    else:\n",
    "        print('Top of the matryoshka', n)\n",
    "        matryoshka(n - 1)\n",
    "        print('Bottom of the matryoshka', n)\n",
    "matryoshka(7)"
   ]
  },
  {
   "cell_type": "code",
   "execution_count": 168,
   "metadata": {},
   "outputs": [],
   "source": [
    "#Generate Numbers (Генерация всех перестановок). N - основание системы счисления, M - длина чисел \n",
    "def generate_number(N:int, M:int, prefix=None):\n",
    "    \"\"\"Генерирует все числа (с лидирующими незначащими нулями)\n",
    "       В N-ричной системе счисления (N<=10)\n",
    "       длины М\n",
    "    \"\"\"\n",
    "    prefix = prefix or []\n",
    "    if M == 0:\n",
    "        print(prefix)\n",
    "        return\n",
    "    for digit in range(N):\n",
    "        prefix.append(digit)\n",
    "        generate_number(N, M - 1, prefix)\n",
    "        prefix.pop()\n",
    "        \n",
    "def find(number, A):\n",
    "    \"\"\"Ищет number в А и возвращает True, если такой есть, False, если такого нет.\"\"\"\n",
    "    for x in A:\n",
    "        if number == x:\n",
    "            return True\n",
    "    return False\n",
    "    \n",
    "def generate_permutations(N:int, M:int = -1, prefix=None):\n",
    "    \"\"\" Генерация перестаново N чисел в M позициях, с префиксом prefix.\n",
    "    \"\"\"\n",
    "    M = M if M != -1 else N #по умолчанию N чисел в N позициях\n",
    "    prefix = prefix or []\n",
    "    if M == 0:\n",
    "        print(*prefix, end=\" \", sep=\"\")\n",
    "        return\n",
    "    for number in range(1, N + 1):\n",
    "        if find(number, prefix):\n",
    "            continue\n",
    "        prefix.append(number)\n",
    "        generate_permutations(N, M - 1, prefix)\n",
    "        prefix.pop()"
   ]
  },
  {
   "cell_type": "code",
   "execution_count": 169,
   "metadata": {},
   "outputs": [
    {
     "name": "stdout",
     "output_type": "stream",
     "text": [
      "123 132 213 231 312 321 "
     ]
    }
   ],
   "source": [
    " generate_permutations(3)"
   ]
  },
  {
   "cell_type": "code",
   "execution_count": 5,
   "metadata": {},
   "outputs": [],
   "source": [
    "# Merge (Сортировка слиянием).\n",
    "# Сортировка называется устойчивой, если она не меняет порядок равных элементов.\n",
    "\n",
    "#Слияние отсортированных массивов.\n",
    "def merge(A:list, B:list):\n",
    "    \"\"\"Merge of two sorted lists.\n",
    "    \"\"\"\n",
    "    C = [0] * (len(A) + len(B))\n",
    "    i = k = n = 0\n",
    "    while i < len(A) and k < len(B):\n",
    "        if A[i] <= B[k]:\n",
    "            C[n] = A[i]\n",
    "            i += 1\n",
    "            n += 1\n",
    "        else:\n",
    "            C[n] = B[k]\n",
    "            k += 1\n",
    "            n += 1\n",
    "    while i < len(A):\n",
    "        C[n] = A[i]\n",
    "        i += 1\n",
    "        n += 1\n",
    "    while k < len(B):\n",
    "        C[n] = B[k]\n",
    "        k += 1\n",
    "        n += 1\n",
    "    return C\n",
    "\n",
    "#Merge Sort (Рекурсивная сортировка)\n",
    "def merge_sort(A):\n",
    "    if len(A) <= 1:\n",
    "        return\n",
    "    middle = len(A)//2\n",
    "    L = [A[i] for i in range(0, middle)]\n",
    "    R = [A[i] for i in range(middle, len(A))]\n",
    "    merge_sort(L)\n",
    "    merge_sort(R)\n",
    "    C = merge(L, R)\n",
    "    for x in range(len(A)):\n",
    "        A[x] = C[x]\n",
    "    return A"
   ]
  },
  {
   "cell_type": "code",
   "execution_count": 6,
   "metadata": {},
   "outputs": [
    {
     "data": {
      "text/plain": [
       "[0, 1, 1, 2, 3, 4, 13]"
      ]
     },
     "execution_count": 6,
     "metadata": {},
     "output_type": "execute_result"
    }
   ],
   "source": [
    "merge_sort([0,13,1,2,3,4,1])"
   ]
  },
  {
   "cell_type": "code",
   "execution_count": 15,
   "metadata": {},
   "outputs": [],
   "source": [
    "#Сортировка Тони Хоара (быстрая сортировка Quick Sort)\n",
    "def hoar_sort(A):\n",
    "    if len(A) <= 1:\n",
    "        return\n",
    "    L, M, R = [], [], []\n",
    "    barrier = A[0]\n",
    "    for x in A:\n",
    "        if x < barrier:\n",
    "            L.append(x)\n",
    "        elif x == barrier:\n",
    "            M.append(x)\n",
    "        else:\n",
    "            R.append(x)\n",
    "    hoar_sort(L)\n",
    "    hoar_sort(R)\n",
    "    k = 0\n",
    "    for i in L + M + R:\n",
    "        A[k] = i\n",
    "        k += 1\n",
    "    return A\n",
    "\n",
    "def check_sorted(A, ascending = True):\n",
    "    \"\"\"Проверка отсортированности за О(len(A)). Ascending = True - по возрастанию\"\"\"\n",
    "    flag = True\n",
    "    s = 2 * int(ascending) - 1\n",
    "    N = len(A)\n",
    "    for i in range(0, N - 1):\n",
    "        if s * A[i] > s * A[i + 1]:\n",
    "            flag = False\n",
    "            break\n",
    "    return flag"
   ]
  },
  {
   "cell_type": "code",
   "execution_count": 20,
   "metadata": {},
   "outputs": [
    {
     "data": {
      "text/plain": [
       "True"
      ]
     },
     "execution_count": 20,
     "metadata": {},
     "output_type": "execute_result"
    }
   ],
   "source": [
    "check_sorted([11, 10, 9 ,8, 6], False)"
   ]
  },
  {
   "cell_type": "code",
   "execution_count": 45,
   "metadata": {},
   "outputs": [],
   "source": [
    "#Реализация бинарного поиска в массиве. Массив должен быть отсортированным.\n",
    "def left_bound(A, key):\n",
    "    left = -1\n",
    "    right = len(A)\n",
    "    while right - left > 1:\n",
    "        middle = (left + right)//2\n",
    "        if A[middle] < key:\n",
    "            left = middle\n",
    "        else:\n",
    "            right = middle\n",
    "    return left\n",
    "\n",
    "def right_bound(A, key):\n",
    "    left = -1\n",
    "    right = len(A)\n",
    "    while right - left > 1:\n",
    "        middle = (left + right)//2\n",
    "        if A[middle] <= key:\n",
    "            left = middle\n",
    "        else:\n",
    "            right = middle\n",
    "    return right\n",
    "\n",
    "def check_element(A, key):\n",
    "    if right_bound(A, key) - left_bound(A, key) > 1:\n",
    "        print('Element is here!\\n', [A[i] for i in range(left_bound(A, key) + 1, right_bound(A, key))], 'indexes: ', \\\n",
    "             [i for i in range(left_bound(A, key) + 1, right_bound(A, key))])\n",
    "    else:\n",
    "        print('No such element in A :(')"
   ]
  },
  {
   "cell_type": "code",
   "execution_count": 49,
   "metadata": {},
   "outputs": [
    {
     "name": "stdout",
     "output_type": "stream",
     "text": [
      "No such element in A :(\n"
     ]
    }
   ],
   "source": [
    "check_element([1,2,2,3,4,6], 5)\n"
   ]
  },
  {
   "cell_type": "markdown",
   "metadata": {},
   "source": [
    "# Динамическое программирование"
   ]
  },
  {
   "cell_type": "code",
   "execution_count": 1,
   "metadata": {},
   "outputs": [],
   "source": [
    "#Реккурентный способ вычисления числа Фибоначчи\n",
    "def fib(n):\n",
    "    if n <= 1:\n",
    "        return n\n",
    "    return(fib(n - 1) + fib(n - 2))\n",
    "#Фибоначчиево дерево О(Fib(n))"
   ]
  },
  {
   "cell_type": "code",
   "execution_count": 5,
   "metadata": {},
   "outputs": [],
   "source": [
    "#O(n)\n",
    "def fib_n(n):\n",
    "    fib = [0, 1] + [0]*(n - 1)\n",
    "    for i in range(2, n + 1):\n",
    "        fib[i] = fib[i - 1] + fib[i - 2]\n",
    "    return fib[n]"
   ]
  },
  {
   "cell_type": "code",
   "execution_count": 11,
   "metadata": {},
   "outputs": [
    {
     "data": {
      "text/plain": [
       "610"
      ]
     },
     "execution_count": 11,
     "metadata": {},
     "output_type": "execute_result"
    }
   ],
   "source": [
    "fib_n(15)"
   ]
  },
  {
   "cell_type": "code",
   "execution_count": 34,
   "metadata": {},
   "outputs": [],
   "source": [
    "#Минимальная стоимость достижения клетки N\n",
    "def count_min_cost(N, price:list):\n",
    "    C = [float('-inf'), price[0], price[0] + price[1]] + [0]*(N - 2)\n",
    "    for i in range(3, N + 1):\n",
    "        C[i] = price[i] + min(C[i - 1], C[i - 2])\n",
    "    return C[N]"
   ]
  },
  {
   "cell_type": "code",
   "execution_count": 45,
   "metadata": {},
   "outputs": [
    {
     "data": {
      "text/plain": [
       "12"
      ]
     },
     "execution_count": 45,
     "metadata": {},
     "output_type": "execute_result"
    }
   ],
   "source": [
    "count_min_cost(5, [1, 2, 3, 4, 6, 7])"
   ]
  },
  {
   "cell_type": "code",
   "execution_count": 46,
   "metadata": {},
   "outputs": [],
   "source": [
    "A = [[0]*3]*2\n",
    "B = [[0]*3 for i in range(2)]"
   ]
  },
  {
   "cell_type": "code",
   "execution_count": 47,
   "metadata": {},
   "outputs": [
    {
     "data": {
      "text/plain": [
       "True"
      ]
     },
     "execution_count": 47,
     "metadata": {},
     "output_type": "execute_result"
    }
   ],
   "source": [
    "A[0] is A[1]"
   ]
  },
  {
   "cell_type": "code",
   "execution_count": 48,
   "metadata": {},
   "outputs": [
    {
     "data": {
      "text/plain": [
       "False"
      ]
     },
     "execution_count": 48,
     "metadata": {},
     "output_type": "execute_result"
    }
   ],
   "source": [
    "B[0] is B[1]"
   ]
  },
  {
   "cell_type": "code",
   "execution_count": 69,
   "metadata": {},
   "outputs": [],
   "source": [
    "#Наибольшая общая подпоследовательность\n",
    "def largest_common_subsequence(A, B):\n",
    "    F = [[0]*(len(B) + 1) for i in range(len(A) + 1)]\n",
    "    for i in range(1, len(A) + 1):\n",
    "        for j in range(1, len(B) + 1):\n",
    "            if A[i - 1] == B[j - 1]:\n",
    "                F[i][j] = 1 + F[i - 1][j - 1]\n",
    "            else:\n",
    "                F[i][j] = max(F[i - 1][j], F[i][j - 1])\n",
    "    return F[-1][-1]"
   ]
  },
  {
   "cell_type": "code",
   "execution_count": 70,
   "metadata": {},
   "outputs": [
    {
     "data": {
      "text/plain": [
       "2"
      ]
     },
     "execution_count": 70,
     "metadata": {},
     "output_type": "execute_result"
    }
   ],
   "source": [
    "largest_common_subsequence((1, 2, 4, 3), (2, 4, 5, 6, 7))"
   ]
  },
  {
   "cell_type": "code",
   "execution_count": 114,
   "metadata": {},
   "outputs": [],
   "source": [
    "#Наибольшая возрастающая подпоследовательность\n",
    "def largest_increasing_subsequence(A):\n",
    "    F = [0]*(len(A) + 1)\n",
    "    for i in range(1, len(A) + 1):\n",
    "        m = 0\n",
    "        for j in range(0, i):\n",
    "            if A[i - 1] > A[j - 1] and F[j] > m:\n",
    "                m = F[j]\n",
    "        F[i] = m + 1\n",
    "    return(max(F))"
   ]
  },
  {
   "cell_type": "code",
   "execution_count": 115,
   "metadata": {},
   "outputs": [
    {
     "data": {
      "text/plain": [
       "1"
      ]
     },
     "execution_count": 115,
     "metadata": {},
     "output_type": "execute_result"
    }
   ],
   "source": [
    "largest_increasing_subsequence([8, 7, 1, 0, 0])"
   ]
  },
  {
   "cell_type": "code",
   "execution_count": 117,
   "metadata": {},
   "outputs": [],
   "source": [
    "#Редакционное расстояние между строками (расстояние Левенштейна)\n",
    "# О(m*n)\n",
    "def levenstein(A, B):\n",
    "    F = [[(i + j) if i * j == 0 else 0 for j in range(len(B) + 1)] for i in range(len(A) + 1)]\n",
    "    for i in range(1, len(A) + 1):\n",
    "        for j in range(1, len(B) + 1):\n",
    "            if A[i - 1] == B[j - 1]:\n",
    "                F[i][j] = F[i - 1][j - 1]\n",
    "            else:\n",
    "                F[i][j] = 1 + min(F[i - 1][j - 1], F[i - 1][j], F[i][j - 1])\n",
    "    return F[(len(A))][(len(B))]"
   ]
  },
  {
   "cell_type": "code",
   "execution_count": 120,
   "metadata": {},
   "outputs": [
    {
     "data": {
      "text/plain": [
       "1"
      ]
     },
     "execution_count": 120,
     "metadata": {},
     "output_type": "execute_result"
    }
   ],
   "source": [
    "A = 'молоко'\n",
    "B = 'колокол'\n",
    "levenstein(A, B)"
   ]
  },
  {
   "cell_type": "code",
   "execution_count": 121,
   "metadata": {},
   "outputs": [],
   "source": [
    "#Проверка равенства строк O(N)\n",
    "def equal(A, B):\n",
    "    if len(A) != len(B):\n",
    "        return False\n",
    "    for i in range(len(A)):\n",
    "        if A[i] != B[i]:\n",
    "            return False\n",
    "    return True"
   ]
  },
  {
   "cell_type": "code",
   "execution_count": 131,
   "metadata": {},
   "outputs": [],
   "source": [
    "#Наивный поиск подстроки в строке\n",
    "def search_substring(s, sub):\n",
    "    for i in range(len(s) - len(sub)):\n",
    "        if equal(s[i:i + len(sub)], sub):\n",
    "            print(i)"
   ]
  },
  {
   "cell_type": "code",
   "execution_count": 132,
   "metadata": {},
   "outputs": [
    {
     "name": "stdout",
     "output_type": "stream",
     "text": [
      "2\n"
     ]
    }
   ],
   "source": [
    "s = 'asdbjkfaf'\n",
    "sub = 'db'\n",
    "search_substring(s, sub)"
   ]
  },
  {
   "cell_type": "code",
   "execution_count": null,
   "metadata": {},
   "outputs": [],
   "source": []
  }
 ],
 "metadata": {
  "kernelspec": {
   "display_name": "Python 3",
   "language": "python",
   "name": "python3"
  },
  "language_info": {
   "codemirror_mode": {
    "name": "ipython",
    "version": 3
   },
   "file_extension": ".py",
   "mimetype": "text/x-python",
   "name": "python",
   "nbconvert_exporter": "python",
   "pygments_lexer": "ipython3",
   "version": "3.8.3"
  }
 },
 "nbformat": 4,
 "nbformat_minor": 4
}
